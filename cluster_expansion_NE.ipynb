{
 "cells": [
  {
   "cell_type": "code",
   "execution_count": null,
   "id": "994a5239",
   "metadata": {},
   "outputs": [],
   "source": [
    "# pymatgen == 2022.8.23\n",
    "# smol == 0.0.5"
   ]
  },
  {
   "cell_type": "code",
   "execution_count": null,
   "id": "48a5262a",
   "metadata": {},
   "outputs": [],
   "source": [
    "import pickle, json, os, random\n",
    "import numpy as np\n",
    "import matplotlib.pyplot as plt\n",
    "import warnings, random\n",
    "from tqdm import tqdm\n",
    "\n",
    "from pymatgen.core import Structure, Lattice\n",
    "\n",
    "from smol.cofe import ClusterSubspace, RegressionData, ClusterExpansion, StructureWrangler\n",
    "from smol.io import save_work, load_work\n",
    "from smol.moca import Ensemble, Sampler\n",
    "\n",
    "from sklearn.linear_model import LinearRegression, Lasso, Ridge\n",
    "from sklearn.metrics import max_error, r2_score\n",
    "from sklearn.metrics import mean_squared_error as mse\n",
    "from sklearn.model_selection import train_test_split\n",
    "from sklearn.exceptions import ConvergenceWarning"
   ]
  },
  {
   "cell_type": "markdown",
   "id": "d27ad5db",
   "metadata": {},
   "source": [
    "# Generate initial Rocksalt primitive cell"
   ]
  },
  {
   "cell_type": "code",
   "execution_count": null,
   "id": "0826db4b",
   "metadata": {},
   "outputs": [],
   "source": [
    "species = {\"Li\":0.6, \"Mn\":0.2, \"Ti\":0.2}\n",
    "prim = Structure.from_spacegroup(\"Fm-3m\", Lattice.cubic(4.15213), [species, {\"O\":1}], [[0,0,0], [0.5, 0.5, 0.5]])\n",
    "\n",
    "cutoffs = {2:8, 3:6, 4:5, 5:5} \n",
    "print(prim.composition)"
   ]
  },
  {
   "cell_type": "code",
   "execution_count": null,
   "id": "afc7b16b",
   "metadata": {},
   "outputs": [],
   "source": [
    "prim"
   ]
  },
  {
   "cell_type": "code",
   "execution_count": null,
   "id": "2258491f",
   "metadata": {
    "scrolled": true
   },
   "outputs": [],
   "source": [
    "# Or, you can build primitive cell from MnO primitive structure\n",
    "\n",
    "lat_param = 2.936\n",
    "cutoffs = {2:8, 3:6, 4:5, 5:5}\n",
    "\n",
    "prim = Structure.from_file('/home/debbang03/MnO_prim.vasp')\n",
    "prim.lattice = Lattice.from_parameters(a=lat_param, b=lat_param, c=lat_param,\n",
    "                                       alpha=60, beta=60, gamma=60)\n",
    "\n",
    "prim['Mn'] = 'Li0.6Mn0.2Ti0.2'\n",
    "\n",
    "print(prim.composition)"
   ]
  },
  {
   "cell_type": "code",
   "execution_count": null,
   "id": "a8efaf9c",
   "metadata": {},
   "outputs": [],
   "source": []
  },
  {
   "cell_type": "markdown",
   "id": "bef4deb2",
   "metadata": {},
   "source": [
    "# Generate cluster subspace"
   ]
  },
  {
   "cell_type": "code",
   "execution_count": null,
   "id": "fa102486",
   "metadata": {},
   "outputs": [],
   "source": [
    "subspace = ClusterSubspace.from_cutoffs(prim, cutoffs=cutoffs, basis='sinusoid')\n",
    "print(subspace)"
   ]
  },
  {
   "cell_type": "markdown",
   "id": "e83b0c80",
   "metadata": {},
   "source": [
    "### Load DFT calculation result data used to learning"
   ]
  },
  {
   "cell_type": "code",
   "execution_count": null,
   "id": "ad955ff5",
   "metadata": {},
   "outputs": [],
   "source": [
    "file_path = '/home/debbang03/Cluster_expansion/Electrode_engineering/Mn0.4Ti0.4/Data'\n",
    "\n",
    "with open(file_path + '/stable_300.pkl', 'rb') as f: \n",
    "    entry_stable = pickle.load(f)\n",
    "    \n",
    "with open(file_path + '/unstable_300.pkl', 'rb') as f: \n",
    "    entry_unstable = pickle.load(f)\n",
    "    \n",
    "with open(file_path + '/random_300.pkl', 'rb') as f: \n",
    "    entry_random = pickle.load(f)"
   ]
  },
  {
   "cell_type": "code",
   "execution_count": null,
   "id": "48dfe0ba",
   "metadata": {},
   "outputs": [],
   "source": [
    "entry_total = entry_stable + entry_unstable + entry_random\n",
    "len(entry_total)"
   ]
  },
  {
   "cell_type": "code",
   "execution_count": null,
   "id": "1350e816",
   "metadata": {},
   "outputs": [],
   "source": [
    "# Plot energy distribution (eV/prim)\n",
    "\n",
    "energy_stable = [e.energy/32 for e in entry_stable]\n",
    "energy_unstable = [e.energy/32 for e in entry_unstable]\n",
    "energy_random = [e.energy/32 for e in entry_random]\n",
    "\n",
    "plt.figure(figsize=(5,8))\n",
    "\n",
    "plt.plot([0 for _ in range(len(energy_stable))], energy_stable, 'gx', markersize=15, label='stable')\n",
    "plt.plot([0 for _ in range(len(energy_unstable))], energy_unstable, 'rx', markersize=15, label='unstable')\n",
    "plt.plot([0 for _ in range(len(energy_random))], energy_random, 'bx', markersize=15, label='random')\n",
    "\n",
    "plt.xticks([], [])\n",
    "plt.ylabel(\"energy per prim_structure (eV/prim)\", fontsize=18)\n",
    "plt.yticks(fontsize=12)\n",
    "plt.legend(fontsize=15, frameon=False)\n",
    "\n",
    "plt.show()\n",
    "plt.close()"
   ]
  },
  {
   "cell_type": "markdown",
   "id": "a44a1c05",
   "metadata": {},
   "source": [
    "### Add data to StructureWrangler, extract features"
   ]
  },
  {
   "cell_type": "code",
   "execution_count": null,
   "id": "5bc213d6",
   "metadata": {
    "scrolled": true
   },
   "outputs": [],
   "source": [
    "wrangler = StructureWrangler(subspace)\n",
    "    \n",
    "for entry in tqdm(entry_total) : \n",
    "    wrangler.add_entry(entry)\n",
    "    \n",
    "print(\"Total number of structures used in learning :\", wrangler.num_structures)"
   ]
  },
  {
   "cell_type": "markdown",
   "id": "afa92dcc",
   "metadata": {},
   "source": [
    "### Simple linear regression fitting. Check overfitting occurs."
   ]
  },
  {
   "cell_type": "code",
   "execution_count": null,
   "id": "d2e015f6",
   "metadata": {},
   "outputs": [],
   "source": [
    "num_trials = 50\n",
    "\n",
    "rmse_train_list, rmse_test_list = [], []\n",
    "\n",
    "for _ in tqdm(range(num_trials)) : \n",
    "    x_train, x_test, y_train, y_test = train_test_split(wrangler.feature_matrix, wrangler.get_property_vector(key='energy'), test_size=0.2)\n",
    "    \n",
    "    lin_reg = LinearRegression(fit_intercept=False)\n",
    "    lin_reg.fit(x_train, y_train)\n",
    "    \n",
    "    rmse_train = np.sqrt(mse(lin_reg.predict(x_train), y_train))\n",
    "    rmse_train_list.append(rmse_train)\n",
    "    \n",
    "    rmse_test = np.sqrt(mse(lin_reg.predict(x_test), y_test))\n",
    "    rmse_test_list.append(rmse_test)\n",
    "    \n",
    "print(\"Average RMSE for train : {} (eV/prim)\".format(np.mean(rmse_train_list)))\n",
    "print(\"Average RMSE for test : {} (eV/prim)\".format(np.mean(rmse_test_list)))"
   ]
  },
  {
   "cell_type": "markdown",
   "id": "cae1eeeb",
   "metadata": {},
   "source": [
    "### Implement L1-regularization if overfitting occurs."
   ]
  },
  {
   "cell_type": "code",
   "execution_count": null,
   "id": "d647e0a6",
   "metadata": {},
   "outputs": [],
   "source": [
    "warnings.filterwarnings('ignore')\n",
    "\n",
    "total_train, total_test, alp = [], [], []\n",
    "\n",
    "for alpha in tqdm(np.logspace(-6, -4, 100)) :\n",
    "\n",
    "    num_trials = 50\n",
    "\n",
    "    rmse_train_list, rmse_test_list = [], []\n",
    "\n",
    "    for _ in range(num_trials) : \n",
    "        x_train, x_test, y_train, y_test = train_test_split(wrangler.feature_matrix, wrangler.get_property_vector(key='energy'), test_size=0.2)\n",
    "\n",
    "        lasso = Lasso(alpha = alpha, fit_intercept=True)\n",
    "        lasso.fit(x_train[:, 1:], y_train)\n",
    "\n",
    "        lasso_wvec = np.concatenate((np.array([lasso.intercept_]), lasso.coef_), axis=0)\n",
    "\n",
    "        y_predict_train = np.dot(x_train, lasso_wvec)\n",
    "        y_predict_test = np.dot(x_test, lasso_wvec)\n",
    "\n",
    "        rmse_train = np.sqrt(mse(y_predict_train, y_train))\n",
    "        rmse_train_list.append(rmse_train)\n",
    "\n",
    "        rmse_test = np.sqrt(mse(y_predict_test, y_test))\n",
    "        rmse_test_list.append(rmse_test)\n",
    "    \n",
    "    total_train.append(np.mean(rmse_train_list))\n",
    "    total_test.append(np.mean(rmse_test_list))\n",
    "    alp.append(alpha)"
   ]
  },
  {
   "cell_type": "code",
   "execution_count": null,
   "id": "2ef90e69",
   "metadata": {},
   "outputs": [],
   "source": [
    "plt.figure(figsize=(8,6))\n",
    "\n",
    "plt.xlabel('alpha', fontsize = 20)\n",
    "plt.xticks(fontsize = 15)\n",
    "plt.ylabel('average RMSE (eV/prim)',fontsize = 20)\n",
    "plt.yticks(fontsize = 15)\n",
    "\n",
    "plt.plot(alp, total_train, 'bo', markersize = 8, label = 'train_RMSE')\n",
    "plt.plot(alp, total_test, 'ro', markersize = 8, label = 'test_RMSE')\n",
    "\n",
    "plt.legend(fontsize = 15, frameon = False)\n",
    "plt.show()\n",
    "plt.close()"
   ]
  },
  {
   "cell_type": "code",
   "execution_count": null,
   "id": "786a1ceb",
   "metadata": {},
   "outputs": [],
   "source": [
    "m = min(total_test)\n",
    "\n",
    "for i in range(len(total_test)) : \n",
    "    if total_test[i] == m : \n",
    "        min_index = i\n",
    "        \n",
    "print(alp[min_index])"
   ]
  },
  {
   "cell_type": "code",
   "execution_count": null,
   "id": "b3e0ef9b",
   "metadata": {},
   "outputs": [],
   "source": [
    "# optimized alpha\n",
    "alpha = 1.592282793341094e-06\n",
    "\n",
    "num_trials = 50\n",
    "\n",
    "rmse_train_list, rmse_test_list = [], []\n",
    "\n",
    "for _ in range(num_trials) : \n",
    "    x_train, x_test, y_train, y_test = train_test_split(wrangler.feature_matrix, wrangler.get_property_vector(key='energy'), test_size=0.2)\n",
    "    \n",
    "    lasso = Lasso(alpha = alpha, fit_intercept=True)\n",
    "    lasso.fit(x_train[:, 1:], y_train)\n",
    "    \n",
    "    lasso_wvec = np.concatenate((np.array([lasso.intercept_]), lasso.coef_), axis=0)\n",
    "    \n",
    "    y_predict_train = np.dot(x_train, lasso_wvec)\n",
    "    y_predict_test = np.dot(x_test, lasso_wvec)\n",
    "        \n",
    "    rmse_train = np.sqrt(mse(y_predict_train, y_train))\n",
    "    rmse_train_list.append(rmse_train)\n",
    "    \n",
    "    rmse_test = np.sqrt(mse(y_predict_test, y_test))\n",
    "    rmse_test_list.append(rmse_test)\n",
    "    \n",
    "print(\"Average RMSE for train : {} (eV/prim)\".format(np.mean(rmse_train_list)))\n",
    "print(\"Average RMSE for test : {} (eV/prim)\".format(np.mean(rmse_test_list)))"
   ]
  },
  {
   "cell_type": "code",
   "execution_count": null,
   "id": "fc44cc3a",
   "metadata": {},
   "outputs": [],
   "source": [
    "cation = prim.composition['O'] # Rocksalt composition\n",
    "rmse_per_cation = 1000 * np.mean(rmse_test_list)/cation\n",
    "\n",
    "print(\"Average RMSE for test : {} (meV/cation)\".format(round(rmse_per_cation, 2)))"
   ]
  },
  {
   "cell_type": "markdown",
   "id": "f36eb962",
   "metadata": {},
   "source": [
    "### Train cluster expansion model with Lasso"
   ]
  },
  {
   "cell_type": "code",
   "execution_count": null,
   "id": "70cebba4",
   "metadata": {},
   "outputs": [],
   "source": [
    "alpha = 1.592282793341094e-06\n",
    "lasso = Lasso(alpha = alpha, fit_intercept=True)\n",
    "x_data = wrangler.feature_matrix\n",
    "y_data = wrangler.get_property_vector(key='energy')\n",
    "\n",
    "lasso.fit(x_data[:, 1:], y_data)\n",
    "lasso_wvec = np.concatenate((np.array([lasso.intercept_]), lasso.coef_), axis=0)\n",
    "\n",
    "lasso_reg_data = RegressionData.from_sklearn(lasso, \n",
    "                                             wrangler.feature_matrix, \n",
    "                                             wrangler.get_property_vector(key='energy'))\n",
    "\n",
    "lasso_expansion = ClusterExpansion(subspace, \n",
    "                                   coefficients=lasso_wvec, \n",
    "                                   regression_data = lasso_reg_data)"
   ]
  },
  {
   "cell_type": "code",
   "execution_count": null,
   "id": "79c8021d",
   "metadata": {},
   "outputs": [],
   "source": [
    "file_path = '/home/debbang03/Cluster_expansion/Electrode_engineering/Mn0.4Ti0.4_lasso_CE_test.mson'\n",
    "\n",
    "save_work(file_path, wrangler, lasso_expansion)"
   ]
  },
  {
   "cell_type": "code",
   "execution_count": null,
   "id": "1492edd3",
   "metadata": {},
   "outputs": [],
   "source": [
    "file_path = '/home/debbang03/Cluster_expansion/Electrode_engineering/Mn0.4Ti0.4_lasso_CE_test.mson'\n",
    "\n",
    "work = load_work(file_path)\n",
    "\n",
    "print(work['StructureWrangler'])\n",
    "print(\"\")\n",
    "print(work['ClusterExpansion'])"
   ]
  },
  {
   "cell_type": "code",
   "execution_count": null,
   "id": "2f2cf9f0",
   "metadata": {},
   "outputs": [],
   "source": [
    "lasso_expansion = work['ClusterExpansion']"
   ]
  },
  {
   "cell_type": "code",
   "execution_count": null,
   "id": "40fad755",
   "metadata": {},
   "outputs": [],
   "source": []
  },
  {
   "cell_type": "markdown",
   "id": "e1aca75a",
   "metadata": {},
   "source": [
    "# Plot training accuracy"
   ]
  },
  {
   "cell_type": "code",
   "execution_count": null,
   "id": "51ddea0b",
   "metadata": {},
   "outputs": [],
   "source": [
    "pred, dft_energy = [], []\n",
    "for i in tqdm(range(len(entry_total))) : \n",
    "    try : \n",
    "        pred.append(lasso_expansion.predict(entry_total[i].structure))\n",
    "        dft_energy.append(entry_total[i].energy)\n",
    "    except : \n",
    "        pass"
   ]
  },
  {
   "cell_type": "code",
   "execution_count": null,
   "id": "47f93397",
   "metadata": {},
   "outputs": [],
   "source": [
    "plt.figure(figsize=(6,6))\n",
    "lim = [-435, -405]\n",
    "\n",
    "plt.plot(pred, dft_energy, 'o')\n",
    "plt.xlabel('Predicted energy (eV)', fontsize = 15)\n",
    "plt.ylabel('DFT energy (eV)', fontsize = 15)\n",
    "plt.xticks(np.arange(-440, -404, 5), fontsize = 12)\n",
    "plt.yticks(np.arange(lim[0], lim[1]+1, 5), fontsize = 12)\n",
    "\n",
    "plt.plot([i for i in range(-440, -404)], [i for i in range(-440, -404)], linestyle = '--', color='gray', alpha = 0.5)\n",
    "\n",
    "plt.xlim(lim)\n",
    "plt.ylim(lim)\n",
    "\n",
    "plt.show()\n",
    "plt.close()"
   ]
  },
  {
   "cell_type": "code",
   "execution_count": null,
   "id": "9c8457ef",
   "metadata": {},
   "outputs": [],
   "source": []
  },
  {
   "cell_type": "markdown",
   "id": "701db95b",
   "metadata": {},
   "source": [
    "# Construct canonical ensemble from cluster expansion model"
   ]
  },
  {
   "cell_type": "code",
   "execution_count": null,
   "id": "69bf6c81",
   "metadata": {},
   "outputs": [],
   "source": [
    "s = Structure.from_file('/home/debbang03/HYUNDAI_DRX/drx_st/MnO_8x8x8_supercell.vasp')\n",
    "s.composition"
   ]
  },
  {
   "cell_type": "code",
   "execution_count": null,
   "id": "cf7ddae2",
   "metadata": {},
   "outputs": [],
   "source": [
    "# Initial random seed\n",
    "\n",
    "mn = [i for i in range(len(s)) if s[i].specie.name == 'Mn']\n",
    "\n",
    "li = random.sample(mn, 308)\n",
    "ti = random.sample([i for i in mn if i not in li], 102)\n",
    "\n",
    "for i in li : \n",
    "    s[i] = 'Li'\n",
    "for i in ti : \n",
    "    s[i] = 'Ti'\n",
    "    \n",
    "s.composition"
   ]
  },
  {
   "cell_type": "code",
   "execution_count": null,
   "id": "8ab0e6b3",
   "metadata": {},
   "outputs": [],
   "source": [
    "# MCMC simulation, construct canonical ensemble\n",
    "\n",
    "mat = lasso_expansion.cluster_subspace.scmatrix_from_structure(s)\n",
    "ensemble = Ensemble.from_cluster_expansion(lasso_expansion, mat)\n",
    "\n",
    "init_occu = ensemble.processor.occupancy_from_structure(s)\n",
    "\n",
    "sampler = Sampler.from_ensemble(ensemble = ensemble, kernel_type = 'Metropolis', temperature=3273)\n",
    "sampler.run(nsteps = 11000000, initial_occupancies=init_occu, thin_by=10000, progress=True)"
   ]
  },
  {
   "cell_type": "code",
   "execution_count": null,
   "id": "79794650",
   "metadata": {},
   "outputs": [],
   "source": [
    "sampler.samples.num_samples"
   ]
  },
  {
   "cell_type": "code",
   "execution_count": null,
   "id": "eec18e88",
   "metadata": {},
   "outputs": [],
   "source": [
    "# Discard initial burn-in\n",
    "container = sampler.samples.get_occupancies(discard=100)\n",
    "sampling_data = {}\n",
    "for i in tqdm(range(len(container))) : \n",
    "    oc = container[i]\n",
    "    st = ensemble.processor.structure_from_occupancy(oc)\n",
    "    st = st.get_sorted_structure()\n",
    "    sampling_data['{}'.format(i+1)] = st\n",
    "    \n",
    "with open('/home/debbang03/test/3273K_10000thin.pkl', 'wb') as file : \n",
    "    pickle.dump(sampling_data, file)"
   ]
  },
  {
   "cell_type": "code",
   "execution_count": null,
   "id": "ac18d8a1",
   "metadata": {},
   "outputs": [],
   "source": []
  }
 ],
 "metadata": {
  "kernelspec": {
   "display_name": "cluster_expansion",
   "language": "python",
   "name": "cluster_expansion"
  },
  "language_info": {
   "codemirror_mode": {
    "name": "ipython",
    "version": 3
   },
   "file_extension": ".py",
   "mimetype": "text/x-python",
   "name": "python",
   "nbconvert_exporter": "python",
   "pygments_lexer": "ipython3",
   "version": "3.8.5"
  }
 },
 "nbformat": 4,
 "nbformat_minor": 5
}
